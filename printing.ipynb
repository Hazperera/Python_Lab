{
 "cells": [
  {
   "cell_type": "markdown",
   "id": "convenient-portrait",
   "metadata": {},
   "source": [
    "### Different methods to print Lists in Python"
   ]
  },
  {
   "cell_type": "code",
   "execution_count": 13,
   "id": "healthy-carnival",
   "metadata": {},
   "outputs": [],
   "source": [
    "#create a sample list\n",
    "\n",
    "uk_cities = ['bristol','leeds','ripon','york','windosr','nottingham']"
   ]
  },
  {
   "cell_type": "markdown",
   "id": "identical-tension",
   "metadata": {},
   "source": [
    "##### default method"
   ]
  },
  {
   "cell_type": "code",
   "execution_count": 18,
   "id": "diverse-seven",
   "metadata": {},
   "outputs": [
    {
     "name": "stdout",
     "output_type": "stream",
     "text": [
      "['bristol', 'leeds', 'ripon', 'york', 'windosr', 'nottingham']\n"
     ]
    }
   ],
   "source": [
    "# print the list\n",
    "\n",
    "print(uk_cities)"
   ]
  },
  {
   "cell_type": "markdown",
   "id": "cutting-tongue",
   "metadata": {},
   "source": [
    "##### alternative method I"
   ]
  },
  {
   "cell_type": "code",
   "execution_count": 20,
   "id": "collaborative-convert",
   "metadata": {},
   "outputs": [
    {
     "name": "stdout",
     "output_type": "stream",
     "text": [
      "bristol\n",
      "leeds\n",
      "ripon\n",
      "york\n",
      "windosr\n",
      "nottingham\n"
     ]
    }
   ],
   "source": [
    "#print using a for loop\n",
    "\n",
    "for city in uk_cities:\n",
    "    print(city)"
   ]
  },
  {
   "cell_type": "markdown",
   "id": "subject-secretariat",
   "metadata": {},
   "source": [
    "##### alternative method II"
   ]
  },
  {
   "cell_type": "code",
   "execution_count": 15,
   "id": "cathedral-dubai",
   "metadata": {},
   "outputs": [
    {
     "name": "stdout",
     "output_type": "stream",
     "text": [
      "bristol\n",
      "leeds\n",
      "ripon\n",
      "york\n",
      "windosr\n",
      "nottingham\n"
     ]
    }
   ],
   "source": [
    "#print using map() and join() function\n",
    "\n",
    "print('\\n'.join(map(str, uk_cities))) "
   ]
  },
  {
   "cell_type": "markdown",
   "id": "small-child",
   "metadata": {},
   "source": [
    "##### alternative method III"
   ]
  },
  {
   "cell_type": "code",
   "execution_count": 16,
   "id": "monetary-bookmark",
   "metadata": {},
   "outputs": [
    {
     "name": "stdout",
     "output_type": "stream",
     "text": [
      "bristol\n",
      "leeds\n",
      "ripon\n",
      "york\n",
      "windosr\n",
      "nottingham\n"
     ]
    }
   ],
   "source": [
    "print(*uk_cities, sep = \"\\n\") "
   ]
  },
  {
   "cell_type": "code",
   "execution_count": null,
   "id": "democratic-reference",
   "metadata": {},
   "outputs": [],
   "source": []
  }
 ],
 "metadata": {
  "kernelspec": {
   "display_name": "Python 3",
   "language": "python",
   "name": "python3"
  },
  "language_info": {
   "codemirror_mode": {
    "name": "ipython",
    "version": 3
   },
   "file_extension": ".py",
   "mimetype": "text/x-python",
   "name": "python",
   "nbconvert_exporter": "python",
   "pygments_lexer": "ipython3",
   "version": "3.8.5"
  }
 },
 "nbformat": 4,
 "nbformat_minor": 5
}
