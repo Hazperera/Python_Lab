{
 "cells": [
  {
   "cell_type": "markdown",
   "id": "sharp-feature",
   "metadata": {},
   "source": [
    "### Data Loading in Python"
   ]
  },
  {
   "cell_type": "code",
   "execution_count": null,
   "id": "affected-physics",
   "metadata": {},
   "outputs": [],
   "source": [
    "\n",
    "def print_lines(n, file_name):\n",
    "    \"\"\"\n",
    "    This function prints the first n lines of a file.\n",
    "\n",
    "    \"\"\"\n",
    "    f = open(file_name)\n",
    "    for i in range(n):\n",
    "        print(f.readline())\n",
    "    f.close()\n",
    "    \n",
    "print_lines(1, 'file1.csv')"
   ]
  }
 ],
 "metadata": {
  "kernelspec": {
   "display_name": "Python 3",
   "language": "python",
   "name": "python3"
  },
  "language_info": {
   "codemirror_mode": {
    "name": "ipython",
    "version": 3
   },
   "file_extension": ".py",
   "mimetype": "text/x-python",
   "name": "python",
   "nbconvert_exporter": "python",
   "pygments_lexer": "ipython3",
   "version": "3.8.5"
  }
 },
 "nbformat": 4,
 "nbformat_minor": 5
}
