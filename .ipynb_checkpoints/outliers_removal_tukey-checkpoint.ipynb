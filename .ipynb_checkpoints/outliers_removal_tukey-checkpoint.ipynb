{
 "cells": [
  {
   "cell_type": "markdown",
   "metadata": {},
   "source": [
    "### Outlier Removal \n",
    "\n",
    "##### There are many different ways to remove outliers and the following code shows how to remove outliers based on the Tukey's rule."
   ]
  },
  {
   "cell_type": "code",
   "execution_count": 1,
   "metadata": {},
   "outputs": [],
   "source": [
    "# import packages\n",
    "\n",
    "import pandas as pd\n",
    "import numpy as np"
   ]
  },
  {
   "cell_type": "code",
   "execution_count": 3,
   "metadata": {},
   "outputs": [],
   "source": [
    "\n",
    "def tukey_rule(data_frame, column_name):\n",
    "    \"\"\"\n",
    "    This function removes the outliers of a dataframe using the Tukey's Rule.\n",
    "    \n",
    "    INPUT -  data_frame - pandas data frame with data including the outliers\n",
    "             column_name - string - the name of the column that requires outlier removal \n",
    "    \n",
    "    OUTPUT - data_frame without outliers \n",
    "    \n",
    "    \"\"\"\n",
    "    Q1 = data_frame[column_name].quantile(0.25)\n",
    "    Q3 = data_frame[column_name].quantile(0.75)\n",
    "    IQR = Q3 - Q1\n",
    "    \n",
    "    max_val = Q3 + 1.5 * IQR\n",
    "    min_val = Q1 - 1.5 * IQR\n",
    "    \n",
    "    return data_frame[(data_frame[column_name] < max_val) & (data_frame[column_name] > min_val)]\n"
   ]
  }
 ],
 "metadata": {
  "interpreter": {
   "hash": "aee8b7b246df8f9039afb4144a1f6fd8d2ca17a180786b69acc140d282b71a49"
  },
  "kernelspec": {
   "display_name": "Python 3",
   "language": "python",
   "name": "python3"
  },
  "language_info": {
   "codemirror_mode": {
    "name": "ipython",
    "version": 3
   },
   "file_extension": ".py",
   "mimetype": "text/x-python",
   "name": "python",
   "nbconvert_exporter": "python",
   "pygments_lexer": "ipython3",
   "version": "3.8.5"
  }
 },
 "nbformat": 4,
 "nbformat_minor": 4
}
